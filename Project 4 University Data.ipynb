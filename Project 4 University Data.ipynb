{
 "cells": [
  {
   "cell_type": "markdown",
   "metadata": {},
   "source": [
    "# Imports"
   ]
  },
  {
   "cell_type": "code",
   "execution_count": 69,
   "metadata": {},
   "outputs": [],
   "source": [
    "import requests\n",
    "import pandas as pd\n",
    "import matplotlib.pyplot as plt\n",
    "import seaborn as sns\n",
    "\n",
    "import pandas as pd\n",
    "from keras.models import Sequential\n",
    "from keras.layers import Dense, Input, Dropout\n",
    "from keras.utils import np_utils\n",
    "from sklearn.model_selection import train_test_split\n",
    "from keras.utils import to_categorical\n",
    "from sklearn.preprocessing import StandardScaler\n",
    "\n",
    "from sklearn.ensemble import RandomForestRegressor\n",
    "from sklearn.model_selection import train_test_split, GridSearchCV, RandomizedSearchCV\n",
    "from sklearn.ensemble import AdaBoostClassifier, GradientBoostingClassifier, GradientBoostingRegressor, AdaBoostRegressor"
   ]
  },
  {
   "cell_type": "markdown",
   "metadata": {},
   "source": [
    "# Gathering Data via API"
   ]
  },
  {
   "cell_type": "code",
   "execution_count": 133,
   "metadata": {},
   "outputs": [
    {
     "name": "stdout",
     "output_type": "stream",
     "text": [
      "Page  0\n"
     ]
    }
   ],
   "source": [
    "# Setup key and base url\n",
    "key = 'IBYxHJXw2PAywxwu4L3tNsCf5cBoffL09hQYDhF8'\n",
    "url_base = 'https://api.data.gov/ed/collegescorecard/v1/schools'\n",
    "\n",
    "# Make function that will build a url given field and criteria names\n",
    "def make_url(fields, criteria, page=0, per_page=20):\n",
    "    crit = '&'.join(criteria) if len(criteria)>0 else ''\n",
    "    field = ','.join(fields)\n",
    "    url = url_base+'?api_key='+key+'&fields='+field+'&'+crit\n",
    "    url += '&_page='+str(page)\n",
    "    url += '&_per_page='+str(per_page)\n",
    "    return url\n",
    "\n",
    "# define the fields and critera that will go into the url request\n",
    "\n",
    "fields = ['school.name', \n",
    "          'school.ownership', \n",
    "          'school.state_fips',\n",
    "          'school.region_id',\n",
    "          'school.tuition_revenue_per_fte', \n",
    "          'school.instructional_expenditure_per_fte',\n",
    "          'school.faculty_salary',\n",
    "          'school.ft_faculty_rate',\n",
    "          '2015.admissions.admission_rate.overall',\n",
    "          '2015.aid.pell_grant_rate',\n",
    "          '2015.aid.federal_loan_rate',\n",
    "          '2015.aid.median_debt.completers.overall',\n",
    "          '2015.student.size',\n",
    "          '2015.cost.attendance.academic_year',\n",
    "          'program_percentage.engineering',\n",
    "          'program_percentage.engineering_technology',\n",
    "          'program_percentage.humanities',\n",
    "          'program_percentage.biological',\n",
    "          'program_percentage.mathematics',\n",
    "          'program_percentage.business_marketing',\n",
    "          'program.bachelors.engineering',\n",
    "          'attendance.academic_year',\n",
    "          'tuition.in_state',\n",
    "          'tuition.out_of_state',\n",
    "          '10_yrs_after_entry.mean_earnings.male_students',\n",
    "          '10_yrs_after_entry.mean_earnings.female_students'\n",
    "]\n",
    "criteria = ['school.main_campus=1',\n",
    "            'school.degrees_awarded.predominant=3',\n",
    "            'school.operating=1',\n",
    "            'school.online_only=0',\n",
    "            'school.institutional_characteristics.level=1']\n",
    "\n",
    "# Now get the data one page at a time\n",
    "more = True\n",
    "page = 0\n",
    "per_page = 100\n",
    "data = []\n",
    "\n",
    "while more:\n",
    "    print('Page ', page)\n",
    "    url = make_url(fields, criteria, page, per_page)\n",
    "    page += 1\n",
    "    result = requests.get(url)\n",
    "    # If the request was unsuccessful break out of the loop\n",
    "    if not result.ok:\n",
    "        more = False\n",
    "        break\n",
    "    results = result.json()\n",
    "    new_data = results['results']\n",
    "    data += new_data # This is where I build up the data\n",
    "    meta = results['metadata']\n",
    "    print(meta)\n",
    "    if len(results)==0:\n",
    "        print(result)\n",
    "        more = False"
   ]
  },
  {
   "cell_type": "code",
   "execution_count": 3,
   "metadata": {},
   "outputs": [
    {
     "data": {
      "text/plain": [
       "(1818, 14)"
      ]
     },
     "execution_count": 3,
     "metadata": {},
     "output_type": "execute_result"
    }
   ],
   "source": [
    "df_initial = pd.DataFrame(data)\n",
    "df_initial.shape"
   ]
  },
  {
   "cell_type": "code",
   "execution_count": 4,
   "metadata": {
    "collapsed": true
   },
   "outputs": [],
   "source": [
    "df_initial.to_csv('University Data.csv', index=False)"
   ]
  },
  {
   "cell_type": "code",
   "execution_count": 5,
   "metadata": {},
   "outputs": [
    {
     "data": {
      "text/html": [
       "<div>\n",
       "<style>\n",
       "    .dataframe thead tr:only-child th {\n",
       "        text-align: right;\n",
       "    }\n",
       "\n",
       "    .dataframe thead th {\n",
       "        text-align: left;\n",
       "    }\n",
       "\n",
       "    .dataframe tbody tr th {\n",
       "        vertical-align: top;\n",
       "    }\n",
       "</style>\n",
       "<table border=\"1\" class=\"dataframe\">\n",
       "  <thead>\n",
       "    <tr style=\"text-align: right;\">\n",
       "      <th></th>\n",
       "      <th>2015.admissions.admission_rate.overall</th>\n",
       "      <th>2015.aid.federal_loan_rate</th>\n",
       "      <th>2015.aid.median_debt.completers.overall</th>\n",
       "      <th>2015.aid.pell_grant_rate</th>\n",
       "      <th>2015.cost.attendance.academic_year</th>\n",
       "      <th>2015.student.size</th>\n",
       "      <th>school.faculty_salary</th>\n",
       "      <th>school.ft_faculty_rate</th>\n",
       "      <th>school.instructional_expenditure_per_fte</th>\n",
       "      <th>school.name</th>\n",
       "      <th>school.ownership</th>\n",
       "      <th>school.region_id</th>\n",
       "      <th>school.state_fips</th>\n",
       "      <th>school.tuition_revenue_per_fte</th>\n",
       "    </tr>\n",
       "  </thead>\n",
       "  <tbody>\n",
       "    <tr>\n",
       "      <th>0</th>\n",
       "      <td>0.6000</td>\n",
       "      <td>0.3333</td>\n",
       "      <td>NaN</td>\n",
       "      <td>0.6250</td>\n",
       "      <td>23025.0</td>\n",
       "      <td>17.0</td>\n",
       "      <td>667.0</td>\n",
       "      <td>NaN</td>\n",
       "      <td>3045</td>\n",
       "      <td>Family of Faith Christian University</td>\n",
       "      <td>2</td>\n",
       "      <td>6</td>\n",
       "      <td>40</td>\n",
       "      <td>1125</td>\n",
       "    </tr>\n",
       "    <tr>\n",
       "      <th>1</th>\n",
       "      <td>0.8333</td>\n",
       "      <td>0.5240</td>\n",
       "      <td>33332.0</td>\n",
       "      <td>0.4487</td>\n",
       "      <td>46040.0</td>\n",
       "      <td>1449.0</td>\n",
       "      <td>8270.0</td>\n",
       "      <td>0.3554</td>\n",
       "      <td>8939</td>\n",
       "      <td>West Coast University-Los Angeles</td>\n",
       "      <td>3</td>\n",
       "      <td>8</td>\n",
       "      <td>6</td>\n",
       "      <td>29643</td>\n",
       "    </tr>\n",
       "    <tr>\n",
       "      <th>2</th>\n",
       "      <td>NaN</td>\n",
       "      <td>0.3871</td>\n",
       "      <td>12830.0</td>\n",
       "      <td>0.2581</td>\n",
       "      <td>16535.0</td>\n",
       "      <td>59.0</td>\n",
       "      <td>1083.0</td>\n",
       "      <td>NaN</td>\n",
       "      <td>3077</td>\n",
       "      <td>Williamson Christian College</td>\n",
       "      <td>2</td>\n",
       "      <td>5</td>\n",
       "      <td>47</td>\n",
       "      <td>10048</td>\n",
       "    </tr>\n",
       "    <tr>\n",
       "      <th>3</th>\n",
       "      <td>NaN</td>\n",
       "      <td>0.0000</td>\n",
       "      <td>NaN</td>\n",
       "      <td>0.1429</td>\n",
       "      <td>19200.0</td>\n",
       "      <td>24.0</td>\n",
       "      <td>6276.0</td>\n",
       "      <td>NaN</td>\n",
       "      <td>7939</td>\n",
       "      <td>Yeshiva College of the Nations Capital</td>\n",
       "      <td>2</td>\n",
       "      <td>2</td>\n",
       "      <td>24</td>\n",
       "      <td>2416</td>\n",
       "    </tr>\n",
       "    <tr>\n",
       "      <th>4</th>\n",
       "      <td>0.8202</td>\n",
       "      <td>0.3798</td>\n",
       "      <td>19000.0</td>\n",
       "      <td>0.3952</td>\n",
       "      <td>23176.0</td>\n",
       "      <td>2493.0</td>\n",
       "      <td>4001.0</td>\n",
       "      <td>0.7944</td>\n",
       "      <td>7801</td>\n",
       "      <td>Bob Jones University</td>\n",
       "      <td>3</td>\n",
       "      <td>5</td>\n",
       "      <td>45</td>\n",
       "      <td>11035</td>\n",
       "    </tr>\n",
       "  </tbody>\n",
       "</table>\n",
       "</div>"
      ],
      "text/plain": [
       "   2015.admissions.admission_rate.overall  2015.aid.federal_loan_rate  \\\n",
       "0                                  0.6000                      0.3333   \n",
       "1                                  0.8333                      0.5240   \n",
       "2                                     NaN                      0.3871   \n",
       "3                                     NaN                      0.0000   \n",
       "4                                  0.8202                      0.3798   \n",
       "\n",
       "   2015.aid.median_debt.completers.overall  2015.aid.pell_grant_rate  \\\n",
       "0                                      NaN                    0.6250   \n",
       "1                                  33332.0                    0.4487   \n",
       "2                                  12830.0                    0.2581   \n",
       "3                                      NaN                    0.1429   \n",
       "4                                  19000.0                    0.3952   \n",
       "\n",
       "   2015.cost.attendance.academic_year  2015.student.size  \\\n",
       "0                             23025.0               17.0   \n",
       "1                             46040.0             1449.0   \n",
       "2                             16535.0               59.0   \n",
       "3                             19200.0               24.0   \n",
       "4                             23176.0             2493.0   \n",
       "\n",
       "   school.faculty_salary  school.ft_faculty_rate  \\\n",
       "0                  667.0                     NaN   \n",
       "1                 8270.0                  0.3554   \n",
       "2                 1083.0                     NaN   \n",
       "3                 6276.0                     NaN   \n",
       "4                 4001.0                  0.7944   \n",
       "\n",
       "   school.instructional_expenditure_per_fte  \\\n",
       "0                                      3045   \n",
       "1                                      8939   \n",
       "2                                      3077   \n",
       "3                                      7939   \n",
       "4                                      7801   \n",
       "\n",
       "                              school.name  school.ownership  school.region_id  \\\n",
       "0    Family of Faith Christian University                 2                 6   \n",
       "1       West Coast University-Los Angeles                 3                 8   \n",
       "2            Williamson Christian College                 2                 5   \n",
       "3  Yeshiva College of the Nations Capital                 2                 2   \n",
       "4                    Bob Jones University                 3                 5   \n",
       "\n",
       "   school.state_fips  school.tuition_revenue_per_fte  \n",
       "0                 40                            1125  \n",
       "1                  6                           29643  \n",
       "2                 47                           10048  \n",
       "3                 24                            2416  \n",
       "4                 45                           11035  "
      ]
     },
     "execution_count": 5,
     "metadata": {},
     "output_type": "execute_result"
    }
   ],
   "source": [
    "df = pd.read_csv('University Data.csv')\n",
    "df.head()"
   ]
  },
  {
   "cell_type": "code",
   "execution_count": 6,
   "metadata": {},
   "outputs": [
    {
     "data": {
      "text/plain": [
       "2015.admissions.admission_rate.overall      264\n",
       "2015.aid.federal_loan_rate                    2\n",
       "2015.aid.median_debt.completers.overall     155\n",
       "2015.aid.pell_grant_rate                      2\n",
       "2015.cost.attendance.academic_year          102\n",
       "2015.student.size                             3\n",
       "school.faculty_salary                        17\n",
       "school.ft_faculty_rate                       86\n",
       "school.instructional_expenditure_per_fte      0\n",
       "school.name                                   0\n",
       "school.ownership                              0\n",
       "school.region_id                              0\n",
       "school.state_fips                             0\n",
       "school.tuition_revenue_per_fte                0\n",
       "dtype: int64"
      ]
     },
     "execution_count": 6,
     "metadata": {},
     "output_type": "execute_result"
    }
   ],
   "source": [
    "df.isnull().sum()"
   ]
  },
  {
   "cell_type": "code",
   "execution_count": 7,
   "metadata": {
    "collapsed": true
   },
   "outputs": [],
   "source": [
    "df.dropna(inplace=True)"
   ]
  },
  {
   "cell_type": "code",
   "execution_count": 8,
   "metadata": {},
   "outputs": [
    {
     "name": "stdout",
     "output_type": "stream",
     "text": [
      "<class 'pandas.core.frame.DataFrame'>\n",
      "Int64Index: 1450 entries, 1 to 1816\n",
      "Data columns (total 14 columns):\n",
      "2015.admissions.admission_rate.overall      1450 non-null float64\n",
      "2015.aid.federal_loan_rate                  1450 non-null float64\n",
      "2015.aid.median_debt.completers.overall     1450 non-null float64\n",
      "2015.aid.pell_grant_rate                    1450 non-null float64\n",
      "2015.cost.attendance.academic_year          1450 non-null float64\n",
      "2015.student.size                           1450 non-null float64\n",
      "school.faculty_salary                       1450 non-null float64\n",
      "school.ft_faculty_rate                      1450 non-null float64\n",
      "school.instructional_expenditure_per_fte    1450 non-null int64\n",
      "school.name                                 1450 non-null object\n",
      "school.ownership                            1450 non-null int64\n",
      "school.region_id                            1450 non-null int64\n",
      "school.state_fips                           1450 non-null int64\n",
      "school.tuition_revenue_per_fte              1450 non-null int64\n",
      "dtypes: float64(8), int64(5), object(1)\n",
      "memory usage: 169.9+ KB\n"
     ]
    }
   ],
   "source": [
    "df.info()"
   ]
  },
  {
   "cell_type": "code",
   "execution_count": 9,
   "metadata": {},
   "outputs": [
    {
     "data": {
      "text/plain": [
       "<matplotlib.axes._subplots.AxesSubplot at 0x19e7f759940>"
      ]
     },
     "execution_count": 9,
     "metadata": {},
     "output_type": "execute_result"
    }
   ],
   "source": [
    "sns.heatmap(df.corr())"
   ]
  },
  {
   "cell_type": "code",
   "execution_count": 10,
   "metadata": {},
   "outputs": [
    {
     "data": {
      "image/png": "[encoded data removed]",
      "text/plain": [
       "<matplotlib.figure.Figure at 0x19e7c3bc8d0>"
      ]
     },
     "metadata": {},
     "output_type": "display_data"
    }
   ],
   "source": [
    "plt.show()"
   ]
  },
  {
   "cell_type": "code",
   "execution_count": 68,
   "metadata": {},
   "outputs": [
    {
     "name": "stdout",
     "output_type": "stream",
     "text": [
      "14\n"
     ]
    },
    {
     "data": {
      "text/html": [
       "<div>\n",
       "<style>\n",
       "    .dataframe thead tr:only-child th {\n",
       "        text-align: right;\n",
       "    }\n",
       "\n",
       "    .dataframe thead th {\n",
       "        text-align: left;\n",
       "    }\n",
       "\n",
       "    .dataframe tbody tr th {\n",
       "        vertical-align: top;\n",
       "    }\n",
       "</style>\n",
       "<table border=\"1\" class=\"dataframe\">\n",
       "  <thead>\n",
       "    <tr style=\"text-align: right;\">\n",
       "      <th></th>\n",
       "      <th>2015.admissions.admission_rate.overall</th>\n",
       "      <th>2015.aid.federal_loan_rate</th>\n",
       "      <th>2015.aid.median_debt.completers.overall</th>\n",
       "      <th>2015.aid.pell_grant_rate</th>\n",
       "      <th>2015.cost.attendance.academic_year</th>\n",
       "      <th>2015.student.size</th>\n",
       "      <th>school.faculty_salary</th>\n",
       "      <th>school.ft_faculty_rate</th>\n",
       "      <th>school.instructional_expenditure_per_fte</th>\n",
       "      <th>school.ownership</th>\n",
       "      <th>school.region_id</th>\n",
       "      <th>school.state_fips</th>\n",
       "      <th>school.tuition_revenue_per_fte</th>\n",
       "    </tr>\n",
       "  </thead>\n",
       "  <tbody>\n",
       "    <tr>\n",
       "      <th>count</th>\n",
       "      <td>1450.000000</td>\n",
       "      <td>1450.000000</td>\n",
       "      <td>1450.000000</td>\n",
       "      <td>1450.000000</td>\n",
       "      <td>1450.000000</td>\n",
       "      <td>1450.000000</td>\n",
       "      <td>1450.000000</td>\n",
       "      <td>1450.000000</td>\n",
       "      <td>1450.000000</td>\n",
       "      <td>1450.000000</td>\n",
       "      <td>1450.000000</td>\n",
       "      <td>1450.000000</td>\n",
       "      <td>1450.000000</td>\n",
       "    </tr>\n",
       "    <tr>\n",
       "      <th>mean</th>\n",
       "      <td>0.652281</td>\n",
       "      <td>0.581724</td>\n",
       "      <td>23498.229310</td>\n",
       "      <td>0.367237</td>\n",
       "      <td>34970.655862</td>\n",
       "      <td>5464.755862</td>\n",
       "      <td>7726.335172</td>\n",
       "      <td>0.686996</td>\n",
       "      <td>10992.212414</td>\n",
       "      <td>1.673103</td>\n",
       "      <td>4.138621</td>\n",
       "      <td>30.299310</td>\n",
       "      <td>13683.441379</td>\n",
       "    </tr>\n",
       "    <tr>\n",
       "      <th>std</th>\n",
       "      <td>0.195403</td>\n",
       "      <td>0.174006</td>\n",
       "      <td>5058.037964</td>\n",
       "      <td>0.155715</td>\n",
       "      <td>14413.705763</td>\n",
       "      <td>7411.767814</td>\n",
       "      <td>2248.246139</td>\n",
       "      <td>0.245018</td>\n",
       "      <td>8969.912448</td>\n",
       "      <td>0.497787</td>\n",
       "      <td>2.117191</td>\n",
       "      <td>15.520598</td>\n",
       "      <td>8017.942526</td>\n",
       "    </tr>\n",
       "    <tr>\n",
       "      <th>min</th>\n",
       "      <td>0.050400</td>\n",
       "      <td>0.011100</td>\n",
       "      <td>1700.000000</td>\n",
       "      <td>0.067100</td>\n",
       "      <td>7312.000000</td>\n",
       "      <td>32.000000</td>\n",
       "      <td>1333.000000</td>\n",
       "      <td>0.040400</td>\n",
       "      <td>1779.000000</td>\n",
       "      <td>1.000000</td>\n",
       "      <td>0.000000</td>\n",
       "      <td>1.000000</td>\n",
       "      <td>409.000000</td>\n",
       "    </tr>\n",
       "    <tr>\n",
       "      <th>25%</th>\n",
       "      <td>0.531875</td>\n",
       "      <td>0.469075</td>\n",
       "      <td>21130.750000</td>\n",
       "      <td>0.254675</td>\n",
       "      <td>22045.250000</td>\n",
       "      <td>1264.250000</td>\n",
       "      <td>6214.250000</td>\n",
       "      <td>0.500000</td>\n",
       "      <td>6979.250000</td>\n",
       "      <td>1.000000</td>\n",
       "      <td>2.000000</td>\n",
       "      <td>18.000000</td>\n",
       "      <td>7987.250000</td>\n",
       "    </tr>\n",
       "    <tr>\n",
       "      <th>50%</th>\n",
       "      <td>0.673500</td>\n",
       "      <td>0.599700</td>\n",
       "      <td>24800.000000</td>\n",
       "      <td>0.351950</td>\n",
       "      <td>34238.500000</td>\n",
       "      <td>2345.500000</td>\n",
       "      <td>7403.500000</td>\n",
       "      <td>0.694300</td>\n",
       "      <td>8897.500000</td>\n",
       "      <td>2.000000</td>\n",
       "      <td>4.000000</td>\n",
       "      <td>31.000000</td>\n",
       "      <td>12524.500000</td>\n",
       "    </tr>\n",
       "    <tr>\n",
       "      <th>75%</th>\n",
       "      <td>0.788075</td>\n",
       "      <td>0.710050</td>\n",
       "      <td>27000.000000</td>\n",
       "      <td>0.455700</td>\n",
       "      <td>45766.750000</td>\n",
       "      <td>6256.500000</td>\n",
       "      <td>8837.250000</td>\n",
       "      <td>0.927225</td>\n",
       "      <td>11908.750000</td>\n",
       "      <td>2.000000</td>\n",
       "      <td>5.000000</td>\n",
       "      <td>42.000000</td>\n",
       "      <td>17485.500000</td>\n",
       "    </tr>\n",
       "    <tr>\n",
       "      <th>max</th>\n",
       "      <td>1.000000</td>\n",
       "      <td>0.996300</td>\n",
       "      <td>42875.000000</td>\n",
       "      <td>0.996300</td>\n",
       "      <td>67572.000000</td>\n",
       "      <td>54091.000000</td>\n",
       "      <td>21354.000000</td>\n",
       "      <td>1.000000</td>\n",
       "      <td>111600.000000</td>\n",
       "      <td>3.000000</td>\n",
       "      <td>9.000000</td>\n",
       "      <td>78.000000</td>\n",
       "      <td>147403.000000</td>\n",
       "    </tr>\n",
       "  </tbody>\n",
       "</table>\n",
       "</div>"
      ],
      "text/plain": [
       "       2015.admissions.admission_rate.overall  2015.aid.federal_loan_rate  \\\n",
       "count                             1450.000000                 1450.000000   \n",
       "mean                                 0.652281                    0.581724   \n",
       "std                                  0.195403                    0.174006   \n",
       "min                                  0.050400                    0.011100   \n",
       "25%                                  0.531875                    0.469075   \n",
       "50%                                  0.673500                    0.599700   \n",
       "75%                                  0.788075                    0.710050   \n",
       "max                                  1.000000                    0.996300   \n",
       "\n",
       "       2015.aid.median_debt.completers.overall  2015.aid.pell_grant_rate  \\\n",
       "count                              1450.000000               1450.000000   \n",
       "mean                              23498.229310                  0.367237   \n",
       "std                                5058.037964                  0.155715   \n",
       "min                                1700.000000                  0.067100   \n",
       "25%                               21130.750000                  0.254675   \n",
       "50%                               24800.000000                  0.351950   \n",
       "75%                               27000.000000                  0.455700   \n",
       "max                               42875.000000                  0.996300   \n",
       "\n",
       "       2015.cost.attendance.academic_year  2015.student.size  \\\n",
       "count                         1450.000000        1450.000000   \n",
       "mean                         34970.655862        5464.755862   \n",
       "std                          14413.705763        7411.767814   \n",
       "min                           7312.000000          32.000000   \n",
       "25%                          22045.250000        1264.250000   \n",
       "50%                          34238.500000        2345.500000   \n",
       "75%                          45766.750000        6256.500000   \n",
       "max                          67572.000000       54091.000000   \n",
       "\n",
       "       school.faculty_salary  school.ft_faculty_rate  \\\n",
       "count            1450.000000             1450.000000   \n",
       "mean             7726.335172                0.686996   \n",
       "std              2248.246139                0.245018   \n",
       "min              1333.000000                0.040400   \n",
       "25%              6214.250000                0.500000   \n",
       "50%              7403.500000                0.694300   \n",
       "75%              8837.250000                0.927225   \n",
       "max             21354.000000                1.000000   \n",
       "\n",
       "       school.instructional_expenditure_per_fte  school.ownership  \\\n",
       "count                               1450.000000       1450.000000   \n",
       "mean                               10992.212414          1.673103   \n",
       "std                                 8969.912448          0.497787   \n",
       "min                                 1779.000000          1.000000   \n",
       "25%                                 6979.250000          1.000000   \n",
       "50%                                 8897.500000          2.000000   \n",
       "75%                                11908.750000          2.000000   \n",
       "max                               111600.000000          3.000000   \n",
       "\n",
       "       school.region_id  school.state_fips  school.tuition_revenue_per_fte  \n",
       "count       1450.000000        1450.000000                     1450.000000  \n",
       "mean           4.138621          30.299310                    13683.441379  \n",
       "std            2.117191          15.520598                     8017.942526  \n",
       "min            0.000000           1.000000                      409.000000  \n",
       "25%            2.000000          18.000000                     7987.250000  \n",
       "50%            4.000000          31.000000                    12524.500000  \n",
       "75%            5.000000          42.000000                    17485.500000  \n",
       "max            9.000000          78.000000                   147403.000000  "
      ]
     },
     "execution_count": 68,
     "metadata": {},
     "output_type": "execute_result"
    }
   ],
   "source": [
    "print(len(df.columns))\n",
    "df.describe()"
   ]
  },
  {
   "cell_type": "code",
   "execution_count": 22,
   "metadata": {},
   "outputs": [],
   "source": [
    "X = df[[x for x in df if x != 'school.name']]\n",
    "y = df['school.tuition_revenue_per_fte']"
   ]
  },
  {
   "cell_type": "code",
   "execution_count": 24,
   "metadata": {},
   "outputs": [
    {
     "data": {
      "text/html": [
       "<div>\n",
       "<style>\n",
       "    .dataframe thead tr:only-child th {\n",
       "        text-align: right;\n",
       "    }\n",
       "\n",
       "    .dataframe thead th {\n",
       "        text-align: left;\n",
       "    }\n",
       "\n",
       "    .dataframe tbody tr th {\n",
       "        vertical-align: top;\n",
       "    }\n",
       "</style>\n",
       "<table border=\"1\" class=\"dataframe\">\n",
       "  <thead>\n",
       "    <tr style=\"text-align: right;\">\n",
       "      <th></th>\n",
       "      <th>2015.admissions.admission_rate.overall</th>\n",
       "      <th>2015.aid.federal_loan_rate</th>\n",
       "      <th>2015.aid.median_debt.completers.overall</th>\n",
       "      <th>2015.aid.pell_grant_rate</th>\n",
       "      <th>2015.cost.attendance.academic_year</th>\n",
       "      <th>2015.student.size</th>\n",
       "      <th>school.faculty_salary</th>\n",
       "      <th>school.ft_faculty_rate</th>\n",
       "      <th>school.instructional_expenditure_per_fte</th>\n",
       "      <th>school.ownership</th>\n",
       "      <th>school.region_id</th>\n",
       "      <th>school.state_fips</th>\n",
       "      <th>school.tuition_revenue_per_fte</th>\n",
       "    </tr>\n",
       "  </thead>\n",
       "  <tbody>\n",
       "    <tr>\n",
       "      <th>1</th>\n",
       "      <td>0.8333</td>\n",
       "      <td>0.5240</td>\n",
       "      <td>33332.0</td>\n",
       "      <td>0.4487</td>\n",
       "      <td>46040.0</td>\n",
       "      <td>1449.0</td>\n",
       "      <td>8270.0</td>\n",
       "      <td>0.3554</td>\n",
       "      <td>8939</td>\n",
       "      <td>3</td>\n",
       "      <td>8</td>\n",
       "      <td>6</td>\n",
       "      <td>29643</td>\n",
       "    </tr>\n",
       "    <tr>\n",
       "      <th>4</th>\n",
       "      <td>0.8202</td>\n",
       "      <td>0.3798</td>\n",
       "      <td>19000.0</td>\n",
       "      <td>0.3952</td>\n",
       "      <td>23176.0</td>\n",
       "      <td>2493.0</td>\n",
       "      <td>4001.0</td>\n",
       "      <td>0.7944</td>\n",
       "      <td>7801</td>\n",
       "      <td>3</td>\n",
       "      <td>5</td>\n",
       "      <td>45</td>\n",
       "      <td>11035</td>\n",
       "    </tr>\n",
       "    <tr>\n",
       "      <th>9</th>\n",
       "      <td>0.6250</td>\n",
       "      <td>0.4743</td>\n",
       "      <td>15000.0</td>\n",
       "      <td>0.4963</td>\n",
       "      <td>14089.0</td>\n",
       "      <td>7225.0</td>\n",
       "      <td>5433.0</td>\n",
       "      <td>0.7143</td>\n",
       "      <td>6462</td>\n",
       "      <td>1</td>\n",
       "      <td>5</td>\n",
       "      <td>13</td>\n",
       "      <td>3049</td>\n",
       "    </tr>\n",
       "    <tr>\n",
       "      <th>10</th>\n",
       "      <td>0.7787</td>\n",
       "      <td>0.7836</td>\n",
       "      <td>38199.0</td>\n",
       "      <td>0.6218</td>\n",
       "      <td>32188.0</td>\n",
       "      <td>16211.0</td>\n",
       "      <td>7251.0</td>\n",
       "      <td>0.0672</td>\n",
       "      <td>5125</td>\n",
       "      <td>3</td>\n",
       "      <td>3</td>\n",
       "      <td>17</td>\n",
       "      <td>19278</td>\n",
       "    </tr>\n",
       "    <tr>\n",
       "      <th>11</th>\n",
       "      <td>0.9607</td>\n",
       "      <td>0.3892</td>\n",
       "      <td>16500.0</td>\n",
       "      <td>0.3551</td>\n",
       "      <td>15277.0</td>\n",
       "      <td>16048.0</td>\n",
       "      <td>5714.0</td>\n",
       "      <td>0.6969</td>\n",
       "      <td>4975</td>\n",
       "      <td>1</td>\n",
       "      <td>5</td>\n",
       "      <td>13</td>\n",
       "      <td>4649</td>\n",
       "    </tr>\n",
       "  </tbody>\n",
       "</table>\n",
       "</div>"
      ],
      "text/plain": [
       "    2015.admissions.admission_rate.overall  2015.aid.federal_loan_rate  \\\n",
       "1                                   0.8333                      0.5240   \n",
       "4                                   0.8202                      0.3798   \n",
       "9                                   0.6250                      0.4743   \n",
       "10                                  0.7787                      0.7836   \n",
       "11                                  0.9607                      0.3892   \n",
       "\n",
       "    2015.aid.median_debt.completers.overall  2015.aid.pell_grant_rate  \\\n",
       "1                                   33332.0                    0.4487   \n",
       "4                                   19000.0                    0.3952   \n",
       "9                                   15000.0                    0.4963   \n",
       "10                                  38199.0                    0.6218   \n",
       "11                                  16500.0                    0.3551   \n",
       "\n",
       "    2015.cost.attendance.academic_year  2015.student.size  \\\n",
       "1                              46040.0             1449.0   \n",
       "4                              23176.0             2493.0   \n",
       "9                              14089.0             7225.0   \n",
       "10                             32188.0            16211.0   \n",
       "11                             15277.0            16048.0   \n",
       "\n",
       "    school.faculty_salary  school.ft_faculty_rate  \\\n",
       "1                  8270.0                  0.3554   \n",
       "4                  4001.0                  0.7944   \n",
       "9                  5433.0                  0.7143   \n",
       "10                 7251.0                  0.0672   \n",
       "11                 5714.0                  0.6969   \n",
       "\n",
       "    school.instructional_expenditure_per_fte  school.ownership  \\\n",
       "1                                       8939                 3   \n",
       "4                                       7801                 3   \n",
       "9                                       6462                 1   \n",
       "10                                      5125                 3   \n",
       "11                                      4975                 1   \n",
       "\n",
       "    school.region_id  school.state_fips  school.tuition_revenue_per_fte  \n",
       "1                  8                  6                           29643  \n",
       "4                  5                 45                           11035  \n",
       "9                  5                 13                            3049  \n",
       "10                 3                 17                           19278  \n",
       "11                 5                 13                            4649  "
      ]
     },
     "execution_count": 24,
     "metadata": {},
     "output_type": "execute_result"
    }
   ],
   "source": [
    "ss = StandardScaler()\n",
    "X.head()"
   ]
  },
  {
   "cell_type": "code",
   "execution_count": 25,
   "metadata": {},
   "outputs": [],
   "source": [
    "X_train, X_test, y_train, y_test = train_test_split(X, y, test_size=0.3)"
   ]
  },
  {
   "cell_type": "code",
   "execution_count": 26,
   "metadata": {},
   "outputs": [],
   "source": [
    "X_train = ss.fit_transform(X_train)\n",
    "X_test = ss.transform(X_test)"
   ]
  },
  {
   "cell_type": "markdown",
   "metadata": {},
   "source": [
    "## Filtering Number of Universities"
   ]
  },
  {
   "cell_type": "code",
   "execution_count": null,
   "metadata": {
    "collapsed": true
   },
   "outputs": [],
   "source": [
    "df = df[df['school.name'].str.contains(\"University of|State University|Harvard|Stanford|Princeton|Yale|Columbia|Brown|Dartmouth|Institute\", na=False)]\n",
    "df.loc[df['school.name'] == 'University of Illinois at Urbana-Champaign']"
   ]
  },
  {
   "cell_type": "code",
   "execution_count": 71,
   "metadata": {},
   "outputs": [
    {
     "data": {
      "text/html": [
       "<div>\n",
       "<style>\n",
       "    .dataframe thead tr:only-child th {\n",
       "        text-align: right;\n",
       "    }\n",
       "\n",
       "    .dataframe thead th {\n",
       "        text-align: left;\n",
       "    }\n",
       "\n",
       "    .dataframe tbody tr th {\n",
       "        vertical-align: top;\n",
       "    }\n",
       "</style>\n",
       "<table border=\"1\" class=\"dataframe\">\n",
       "  <thead>\n",
       "    <tr style=\"text-align: right;\">\n",
       "      <th></th>\n",
       "      <th>2015.admissions.admission_rate.overall</th>\n",
       "      <th>school.name</th>\n",
       "    </tr>\n",
       "  </thead>\n",
       "  <tbody>\n",
       "    <tr>\n",
       "      <th>1749</th>\n",
       "      <td>0.0504</td>\n",
       "      <td>Stanford University</td>\n",
       "    </tr>\n",
       "    <tr>\n",
       "      <th>1067</th>\n",
       "      <td>0.0558</td>\n",
       "      <td>Harvard University</td>\n",
       "    </tr>\n",
       "    <tr>\n",
       "      <th>305</th>\n",
       "      <td>0.0661</td>\n",
       "      <td>Columbia University in the City of New York</td>\n",
       "    </tr>\n",
       "    <tr>\n",
       "      <th>120</th>\n",
       "      <td>0.0673</td>\n",
       "      <td>Yale University</td>\n",
       "    </tr>\n",
       "    <tr>\n",
       "      <th>1296</th>\n",
       "      <td>0.0714</td>\n",
       "      <td>Princeton University</td>\n",
       "    </tr>\n",
       "    <tr>\n",
       "      <th>1137</th>\n",
       "      <td>0.0830</td>\n",
       "      <td>Massachusetts Institute of Technology</td>\n",
       "    </tr>\n",
       "    <tr>\n",
       "      <th>1731</th>\n",
       "      <td>0.0838</td>\n",
       "      <td>University of Chicago</td>\n",
       "    </tr>\n",
       "    <tr>\n",
       "      <th>895</th>\n",
       "      <td>0.0881</td>\n",
       "      <td>California Institute of Technology</td>\n",
       "    </tr>\n",
       "    <tr>\n",
       "      <th>454</th>\n",
       "      <td>0.0949</td>\n",
       "      <td>Brown University</td>\n",
       "    </tr>\n",
       "    <tr>\n",
       "      <th>1516</th>\n",
       "      <td>0.1016</td>\n",
       "      <td>University of Pennsylvania</td>\n",
       "    </tr>\n",
       "    <tr>\n",
       "      <th>1317</th>\n",
       "      <td>0.1097</td>\n",
       "      <td>Dartmouth College</td>\n",
       "    </tr>\n",
       "    <tr>\n",
       "      <th>62</th>\n",
       "      <td>0.1688</td>\n",
       "      <td>University of California-Berkeley</td>\n",
       "    </tr>\n",
       "    <tr>\n",
       "      <th>1637</th>\n",
       "      <td>0.1728</td>\n",
       "      <td>University of California-Los Angeles</td>\n",
       "    </tr>\n",
       "    <tr>\n",
       "      <th>968</th>\n",
       "      <td>0.1768</td>\n",
       "      <td>University of Southern California</td>\n",
       "    </tr>\n",
       "    <tr>\n",
       "      <th>792</th>\n",
       "      <td>0.1952</td>\n",
       "      <td>Inter American University of Puerto Rico-Metro</td>\n",
       "    </tr>\n",
       "    <tr>\n",
       "      <th>947</th>\n",
       "      <td>0.1980</td>\n",
       "      <td>University of Notre Dame</td>\n",
       "    </tr>\n",
       "    <tr>\n",
       "      <th>108</th>\n",
       "      <td>0.2051</td>\n",
       "      <td>Fort Valley State University</td>\n",
       "    </tr>\n",
       "    <tr>\n",
       "      <th>141</th>\n",
       "      <td>0.2118</td>\n",
       "      <td>Chicago State University</td>\n",
       "    </tr>\n",
       "    <tr>\n",
       "      <th>811</th>\n",
       "      <td>0.2426</td>\n",
       "      <td>University of Puerto Rico-Bayamon</td>\n",
       "    </tr>\n",
       "    <tr>\n",
       "      <th>326</th>\n",
       "      <td>0.2445</td>\n",
       "      <td>New Mexico Institute of Mining and Technology</td>\n",
       "    </tr>\n",
       "  </tbody>\n",
       "</table>\n",
       "</div>"
      ],
      "text/plain": [
       "      2015.admissions.admission_rate.overall  \\\n",
       "1749                                  0.0504   \n",
       "1067                                  0.0558   \n",
       "305                                   0.0661   \n",
       "120                                   0.0673   \n",
       "1296                                  0.0714   \n",
       "1137                                  0.0830   \n",
       "1731                                  0.0838   \n",
       "895                                   0.0881   \n",
       "454                                   0.0949   \n",
       "1516                                  0.1016   \n",
       "1317                                  0.1097   \n",
       "62                                    0.1688   \n",
       "1637                                  0.1728   \n",
       "968                                   0.1768   \n",
       "792                                   0.1952   \n",
       "947                                   0.1980   \n",
       "108                                   0.2051   \n",
       "141                                   0.2118   \n",
       "811                                   0.2426   \n",
       "326                                   0.2445   \n",
       "\n",
       "                                         school.name  \n",
       "1749                             Stanford University  \n",
       "1067                              Harvard University  \n",
       "305      Columbia University in the City of New York  \n",
       "120                                  Yale University  \n",
       "1296                            Princeton University  \n",
       "1137           Massachusetts Institute of Technology  \n",
       "1731                           University of Chicago  \n",
       "895               California Institute of Technology  \n",
       "454                                 Brown University  \n",
       "1516                      University of Pennsylvania  \n",
       "1317                               Dartmouth College  \n",
       "62                 University of California-Berkeley  \n",
       "1637            University of California-Los Angeles  \n",
       "968                University of Southern California  \n",
       "792   Inter American University of Puerto Rico-Metro  \n",
       "947                         University of Notre Dame  \n",
       "108                     Fort Valley State University  \n",
       "141                         Chicago State University  \n",
       "811                University of Puerto Rico-Bayamon  \n",
       "326    New Mexico Institute of Mining and Technology  "
      ]
     },
     "execution_count": 71,
     "metadata": {},
     "output_type": "execute_result"
    }
   ],
   "source": [
    "admission_rates = df[['2015.admissions.admission_rate.overall', 'school.name']].sort_values('2015.admissions.admission_rate.overall')\n",
    "admission_rates.head(20)"
   ]
  },
  {
   "cell_type": "markdown",
   "metadata": {},
   "source": [
    "## Preprocessing"
   ]
  },
  {
   "cell_type": "code",
   "execution_count": 122,
   "metadata": {},
   "outputs": [],
   "source": [
    "# Feature selection\n",
    "# Chose net tuition revenue per full-time student as the target feature\n",
    "# Chose all other features available, except school name as it contains a string to use as predictor features \n",
    "# in Random Forest Regressor model\n",
    "\n",
    "X = df[[x for x in df.columns if x not in ['school.name', 'school.tuition_revenue_per_fte', '2015.cost.attendance.academic_year']]]\n",
    "y = df['school.tuition_revenue_per_fte']"
   ]
  },
  {
   "cell_type": "code",
   "execution_count": 123,
   "metadata": {
    "collapsed": true
   },
   "outputs": [],
   "source": [
    "# Splitting data into training and testing sets\n",
    "X_train, X_test, y_train, y_test = train_test_split(X, y, test_size=0.3)"
   ]
  },
  {
   "cell_type": "code",
   "execution_count": 124,
   "metadata": {
    "collapsed": true
   },
   "outputs": [],
   "source": [
    "# Scaling\n",
    "X_train = ss.fit_transform(X_train)\n",
    "X_test = ss.transform(X_test)"
   ]
  },
  {
   "cell_type": "markdown",
   "metadata": {},
   "source": [
    "## Modeling - Grid Search using Random Forest Regressor as the Base Model"
   ]
  },
  {
   "cell_type": "code",
   "execution_count": 125,
   "metadata": {},
   "outputs": [
    {
     "name": "stdout",
     "output_type": "stream",
     "text": [
      "best score 0.801690720743\n",
      "best params {'criterion': 'mse', 'max_depth': 9, 'max_features': 'sqrt', 'n_estimators': 50}\n",
      "test score 0.804644743684\n"
     ]
    }
   ],
   "source": [
    "rfregr = RandomForestRegressor(warm_start=True)\n",
    "rfregr_params = {'n_estimators': [50, 75, 100, 125],\n",
    "                'criterion': ['mse', 'mae'],\n",
    "                'max_features': ['auto', 'sqrt', 'log2', None],\n",
    "                'max_depth': range(8, 11),}\n",
    "rfregr_model = GridSearchCV(rfregr, rfregr_params)\n",
    "rfregr_model.fit(X_train, y_train)\n",
    "print('best score', rfregr_model.best_score_)\n",
    "print('best params', rfregr_model.best_params_)\n",
    "print('test score', rfregr_model.score(X_test, y_test))"
   ]
  },
  {
   "cell_type": "code",
   "execution_count": 126,
   "metadata": {},
   "outputs": [
    {
     "data": {
      "text/plain": [
       "Index(['2015.admissions.admission_rate.overall', '2015.aid.federal_loan_rate',\n",
       "       '2015.aid.median_debt.completers.overall', '2015.aid.pell_grant_rate',\n",
       "       '2015.student.size', 'school.faculty_salary', 'school.ft_faculty_rate',\n",
       "       'school.instructional_expenditure_per_fte', 'school.ownership',\n",
       "       'school.region_id', 'school.state_fips'],\n",
       "      dtype='object')"
      ]
     },
     "execution_count": 126,
     "metadata": {},
     "output_type": "execute_result"
    }
   ],
   "source": [
    "X.columns"
   ]
  },
  {
   "cell_type": "code",
   "execution_count": 127,
   "metadata": {
    "collapsed": true
   },
   "outputs": [],
   "source": [
    "rfregr_solo = RandomForestRegressor(n_estimators = 75, criterion = 'mae', max_depth = 8, max_features = 'sqrt', warm_start=True)"
   ]
  },
  {
   "cell_type": "code",
   "execution_count": 128,
   "metadata": {},
   "outputs": [
    {
     "name": "stdout",
     "output_type": "stream",
     "text": [
      "test score 0.817617172067\n"
     ]
    }
   ],
   "source": [
    "rfregr_solo.fit(X_train, y_train)\n",
    "\n",
    "print('test score', rfregr_solo.score(X_test, y_test))"
   ]
  },
  {
   "cell_type": "markdown",
   "metadata": {},
   "source": [
    "## Finding the Features Most Indicative of a Higher Tuition Revenue"
   ]
  },
  {
   "cell_type": "code",
   "execution_count": 130,
   "metadata": {},
   "outputs": [],
   "source": [
    "feature_columns = [x for x in df.columns if x not in ['school.name', 'school.tuition_revenue_per_fte', '2015.cost.attendance.academic_year']]\n",
    "importance = rfregr_solo.feature_importances_\n",
    "importance = pd.DataFrame(importance, index=feature_columns, \n",
    "                          columns=[\"Importance\"])"
   ]
  },
  {
   "cell_type": "code",
   "execution_count": 131,
   "metadata": {},
   "outputs": [
    {
     "data": {
      "text/html": [
       "<div>\n",
       "<style>\n",
       "    .dataframe thead tr:only-child th {\n",
       "        text-align: right;\n",
       "    }\n",
       "\n",
       "    .dataframe thead th {\n",
       "        text-align: left;\n",
       "    }\n",
       "\n",
       "    .dataframe tbody tr th {\n",
       "        vertical-align: top;\n",
       "    }\n",
       "</style>\n",
       "<table border=\"1\" class=\"dataframe\">\n",
       "  <thead>\n",
       "    <tr style=\"text-align: right;\">\n",
       "      <th></th>\n",
       "      <th>Importance</th>\n",
       "    </tr>\n",
       "  </thead>\n",
       "  <tbody>\n",
       "    <tr>\n",
       "      <th>school.ownership</th>\n",
       "      <td>0.228183</td>\n",
       "    </tr>\n",
       "    <tr>\n",
       "      <th>school.instructional_expenditure_per_fte</th>\n",
       "      <td>0.166960</td>\n",
       "    </tr>\n",
       "    <tr>\n",
       "      <th>school.faculty_salary</th>\n",
       "      <td>0.150335</td>\n",
       "    </tr>\n",
       "    <tr>\n",
       "      <th>2015.aid.pell_grant_rate</th>\n",
       "      <td>0.107380</td>\n",
       "    </tr>\n",
       "    <tr>\n",
       "      <th>2015.student.size</th>\n",
       "      <td>0.081496</td>\n",
       "    </tr>\n",
       "    <tr>\n",
       "      <th>2015.aid.median_debt.completers.overall</th>\n",
       "      <td>0.067229</td>\n",
       "    </tr>\n",
       "    <tr>\n",
       "      <th>2015.aid.federal_loan_rate</th>\n",
       "      <td>0.049095</td>\n",
       "    </tr>\n",
       "    <tr>\n",
       "      <th>2015.admissions.admission_rate.overall</th>\n",
       "      <td>0.048166</td>\n",
       "    </tr>\n",
       "    <tr>\n",
       "      <th>school.ft_faculty_rate</th>\n",
       "      <td>0.034351</td>\n",
       "    </tr>\n",
       "    <tr>\n",
       "      <th>school.state_fips</th>\n",
       "      <td>0.034349</td>\n",
       "    </tr>\n",
       "    <tr>\n",
       "      <th>school.region_id</th>\n",
       "      <td>0.032458</td>\n",
       "    </tr>\n",
       "  </tbody>\n",
       "</table>\n",
       "</div>"
      ],
      "text/plain": [
       "                                          Importance\n",
       "school.ownership                            0.228183\n",
       "school.instructional_expenditure_per_fte    0.166960\n",
       "school.faculty_salary                       0.150335\n",
       "2015.aid.pell_grant_rate                    0.107380\n",
       "2015.student.size                           0.081496\n",
       "2015.aid.median_debt.completers.overall     0.067229\n",
       "2015.aid.federal_loan_rate                  0.049095\n",
       "2015.admissions.admission_rate.overall      0.048166\n",
       "school.ft_faculty_rate                      0.034351\n",
       "school.state_fips                           0.034349\n",
       "school.region_id                            0.032458"
      ]
     },
     "execution_count": 131,
     "metadata": {},
     "output_type": "execute_result"
    }
   ],
   "source": [
    "# The three most important features in determining how much revenue a school brings in per year per student are control of\n",
    "# institution, instructional expenditure and faculty salary\n",
    "importance = importance.sort_values('Importance', ascending=False)\n",
    "importance"
   ]
  },
  {
   "cell_type": "markdown",
   "metadata": {},
   "source": [
    "# Predicting Cost of Attendance per Academic Year"
   ]
  },
  {
   "cell_type": "code",
   "execution_count": 160,
   "metadata": {},
   "outputs": [],
   "source": [
    "X = df[[x for x in df.columns if x not in ['school.name', 'school.tuition_revenue_per_fte', '2015.cost.attendance.academic_year']]]\n",
    "y = df['2015.cost.attendance.academic_year']"
   ]
  },
  {
   "cell_type": "code",
   "execution_count": 161,
   "metadata": {
    "collapsed": true
   },
   "outputs": [],
   "source": [
    "# Splitting data into training and testing sets\n",
    "X_train, X_test, y_train, y_test = train_test_split(X, y, test_size=0.3)"
   ]
  },
  {
   "cell_type": "code",
   "execution_count": 162,
   "metadata": {
    "collapsed": true
   },
   "outputs": [],
   "source": [
    "# Scaling\n",
    "X_train = ss.fit_transform(X_train)\n",
    "X_test = ss.transform(X_test)"
   ]
  },
  {
   "cell_type": "markdown",
   "metadata": {},
   "source": [
    "## Gradient Boosting Regressor Model"
   ]
  },
  {
   "cell_type": "code",
   "execution_count": 147,
   "metadata": {},
   "outputs": [
    {
     "name": "stdout",
     "output_type": "stream",
     "text": [
      "best score 0.903963546151\n",
      "best params {'max_depth': 4, 'max_features': 'log2', 'min_samples_split': 3, 'n_estimators': 125}\n",
      "test score 0.883752067598\n"
     ]
    }
   ],
   "source": [
    "# Fairly good score from Gradient Boosting Regressor model, will also try Random Forest Regressor\n",
    "\n",
    "grdboost = GradientBoostingRegressor()\n",
    "grdboost_params = {'n_estimators': [75, 100, 125, 150],\n",
    "                   'max_depth': range(2, 5),\n",
    "                  'max_features': ['auto', 'log2', None],\n",
    "                  'min_samples_split': [2,3,4]}\n",
    "grdboost_model = GridSearchCV(grdboost, grdboost_params)\n",
    "grdboost_model.fit(X_train, y_train)\n",
    "print('best score', grdboost_model.best_score_)\n",
    "print('best params', grdboost_model.best_params_)\n",
    "print('test score', grdboost_model.score(X_test, y_test))"
   ]
  },
  {
   "cell_type": "code",
   "execution_count": 148,
   "metadata": {},
   "outputs": [
    {
     "data": {
      "text/plain": [
       "Index(['2015.admissions.admission_rate.overall', '2015.aid.federal_loan_rate',\n",
       "       '2015.aid.median_debt.completers.overall', '2015.aid.pell_grant_rate',\n",
       "       '2015.student.size', 'school.faculty_salary', 'school.ft_faculty_rate',\n",
       "       'school.instructional_expenditure_per_fte', 'school.ownership',\n",
       "       'school.region_id', 'school.state_fips'],\n",
       "      dtype='object')"
      ]
     },
     "execution_count": 148,
     "metadata": {},
     "output_type": "execute_result"
    }
   ],
   "source": [
    "X.columns"
   ]
  },
  {
   "cell_type": "markdown",
   "metadata": {},
   "source": [
    "## Random Forest Regressor Model"
   ]
  },
  {
   "cell_type": "code",
   "execution_count": 152,
   "metadata": {},
   "outputs": [
    {
     "name": "stdout",
     "output_type": "stream",
     "text": [
      "best score 0.885188055008\n",
      "best params {'criterion': 'mae', 'max_depth': 9, 'max_features': None, 'n_estimators': 125}\n",
      "test score 0.9428243155\n"
     ]
    }
   ],
   "source": [
    "# The Random Forest Regressor Model seems to have done better than the Gradient Boosting Regressor Model\n",
    "\n",
    "rfregr = RandomForestRegressor(warm_start=True)\n",
    "rfregr_params = {'n_estimators': [50, 75, 100, 125],\n",
    "                'criterion': ['mse', 'mae'],\n",
    "                'max_features': ['auto', 'sqrt', 'log2', None],\n",
    "                'max_depth': range(8, 11),}\n",
    "rfregr_model = GridSearchCV(rfregr, rfregr_params)\n",
    "rfregr_model.fit(X_train, y_train)\n",
    "print('best score', rfregr_model.best_score_)\n",
    "print('best params', rfregr_model.best_params_)\n",
    "print('test score', rfregr_model.score(X_test, y_test))"
   ]
  },
  {
   "cell_type": "markdown",
   "metadata": {},
   "source": [
    "## Predictions from the Random Forest Regressor Model"
   ]
  },
  {
   "cell_type": "code",
   "execution_count": 170,
   "metadata": {},
   "outputs": [],
   "source": [
    "rfr_predictions = rfregr_model.predict(X_test)"
   ]
  },
  {
   "cell_type": "code",
   "execution_count": 175,
   "metadata": {},
   "outputs": [
    {
     "data": {
      "image/png": "[encoded data removed]",
      "text/plain": [
       "<matplotlib.figure.Figure at 0x19e05b78828>"
      ]
     },
     "metadata": {},
     "output_type": "display_data"
    }
   ],
   "source": [
    "fig, ax = plt.subplots()\n",
    "ax.scatter(y_test, rfr_predictions, edgecolors=(0, 0, 0))\n",
    "ax.plot([y_test.min(), y_test.max()], [y_test.min(), y_test.max()], 'k--', lw=3)\n",
    "ax.set_title('Actual Values vs. Values Predicted by Random Forest Regressor Model')\n",
    "ax.set_xlabel('Actual Costs')\n",
    "ax.set_ylabel('Predicted Costs')\n",
    "plt.show()"
   ]
  },
  {
   "cell_type": "markdown",
   "metadata": {},
   "source": [
    "The plot shows that the Random Forest Regressor did fairly well in predicting the costs of attendance, staying close to the observed costs of attendance."
   ]
  },
  {
   "cell_type": "markdown",
   "metadata": {},
   "source": [
    "## Predictions from the Gradient Boosting Model"
   ]
  },
  {
   "cell_type": "code",
   "execution_count": 179,
   "metadata": {},
   "outputs": [],
   "source": [
    "gb_predictions = grdboost_model.predict(X_test)"
   ]
  },
  {
   "cell_type": "code",
   "execution_count": 180,
   "metadata": {},
   "outputs": [
    {
     "data": {
      "image/png": "[encoded data removed]",
      "text/plain": [
       "<matplotlib.figure.Figure at 0x19e05c540f0>"
      ]
     },
     "metadata": {},
     "output_type": "display_data"
    }
   ],
   "source": [
    "fig, ax = plt.subplots()\n",
    "ax.scatter(y_test, gb_predictions, edgecolors=(0, 0, 0))\n",
    "ax.plot([y_test.min(), y_test.max()], [y_test.min(), y_test.max()], 'k--', lw=3)\n",
    "ax.set_title('Actual Values vs. Values Predicted by Gradient Boosting Regressor Model')\n",
    "ax.set_xlabel('Actual Costs')\n",
    "ax.set_ylabel('Predicted Costs')\n",
    "plt.show()"
   ]
  },
  {
   "cell_type": "markdown",
   "metadata": {},
   "source": [
    "From this plot, we can see that the Gradient Boosting Model did similarly well in its predictions of the costs of attendance."
   ]
  }
 ],
 "metadata": {
  "kernelspec": {
   "display_name": "Python 3",
   "language": "python",
   "name": "python3"
  },
  "language_info": {
   "codemirror_mode": {
    "name": "ipython",
    "version": 3
   },
   "file_extension": ".py",
   "mimetype": "text/x-python",
   "name": "python",
   "nbconvert_exporter": "python",
   "pygments_lexer": "ipython3",
   "version": "3.6.2"
  }
 },
 "nbformat": 4,
 "nbformat_minor": 2
}
